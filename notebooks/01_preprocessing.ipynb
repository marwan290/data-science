{
 "cells": [
  {
   "cell_type": "code",
   "execution_count": 12,
   "metadata": {},
   "outputs": [],
   "source": [
    "DATA_PATH = '../data/raw/survey_results_public.csv'\n",
    "EXPORT_PATH = \"../data/processed/1_preprocessed_df.pkl\"\n"
   ]
  },
  {
   "cell_type": "code",
   "execution_count": 2,
   "metadata": {},
   "outputs": [],
   "source": [
    "import numpy as np\n",
    "import pandas as pd\n",
    "import re"
   ]
  },
  {
   "cell_type": "code",
   "execution_count": 7,
   "metadata": {
    "jupyter": {
     "source_hidden": true
    }
   },
   "outputs": [],
   "source": [
    "def split_answers(data_series, delimiter=\";\"):\n",
    "    '''\n",
    "    Split muliple answers in a single string\n",
    "    to a list of single string each represnting a single answers\n",
    "    \n",
    "    Parameters:\n",
    "    * data series (pd.series): string series with answers\n",
    "    * delemiter: which string split with defult to (;)\n",
    "    \n",
    "    Return: pd.series: if column contains\n",
    "    '''\n",
    "    \n",
    "    def is_splitable(pd_series, delimiter):\n",
    "        ''' Check if string contain the delimiter and shoud be split - Return boolean'''\n",
    "        return pd_series.str.contains(delimiter)\n",
    "    \n",
    "    def split_answer(pd_series, delimiter):\n",
    "        ''' function to spilt a single answer'''\n",
    "        return pd_series.str.split(delimiter)\n",
    "    #-----------------\n",
    "    \n",
    "    # check if multiple answers exist - if none: Return original\n",
    "    splitable_values = is_splitable(data_series,delimiter)\n",
    "    if not splitable_values.any():\n",
    "        return data_series\n",
    "    \n",
    "    # Else, split each value to a list\n",
    "    modified_series = split_answer(data_series,delimiter)\n",
    "    \n",
    "    # Replace NAs value with empty list\n",
    "    mask_null = modified_series.isnull()\n",
    "    modified_series.loc[mask_null] = modified_series.loc[mask_null].apply(lambda x: [])\n",
    "    \n",
    "    return modified_series"
   ]
  },
  {
   "cell_type": "code",
   "execution_count": 9,
   "metadata": {},
   "outputs": [],
   "source": [
    "raw_df = pd.read_csv(DATA_PATH)\n",
    "df = raw_df.copy()"
   ]
  },
  {
   "cell_type": "code",
   "execution_count": 5,
   "metadata": {},
   "outputs": [],
   "source": [
    "questionable_columns = ['YearsCode', 'YearsCodePro', 'Age1stCode']\n"
   ]
  },
  {
   "cell_type": "code",
   "execution_count": 10,
   "metadata": {},
   "outputs": [],
   "source": [
    "df[questionable_columns[0]] = df[questionable_columns[0]].replace({'Less than 1 year':0, 'More than 50 years':51})\n",
    "df[questionable_columns[1]] = df[questionable_columns[1]].replace({'Less than 1 year':0, 'More than 50 years':51})\n",
    "df[questionable_columns[2]] = df[questionable_columns[2]].replace({'Younger than 5 years':4, 'Older than 85':86})"
   ]
  },
  {
   "cell_type": "code",
   "execution_count": 11,
   "metadata": {},
   "outputs": [],
   "source": [
    "object_cols = df.select_dtypes(include='object').columns.tolist()\n",
    "for col in object_cols:\n",
    "    df[col] = split_answers(df[col])"
   ]
  },
  {
   "cell_type": "code",
   "execution_count": 13,
   "metadata": {},
   "outputs": [],
   "source": [
    "df.to_pickle(EXPORT_PATH)\n"
   ]
  },
  {
   "cell_type": "code",
   "execution_count": null,
   "metadata": {},
   "outputs": [],
   "source": []
  }
 ],
 "metadata": {
  "kernelspec": {
   "display_name": "Python 3",
   "language": "python",
   "name": "python3"
  },
  "language_info": {
   "codemirror_mode": {
    "name": "ipython",
    "version": 3
   },
   "file_extension": ".py",
   "mimetype": "text/x-python",
   "name": "python",
   "nbconvert_exporter": "python",
   "pygments_lexer": "ipython3",
   "version": "3.8.5"
  }
 },
 "nbformat": 4,
 "nbformat_minor": 4
}
